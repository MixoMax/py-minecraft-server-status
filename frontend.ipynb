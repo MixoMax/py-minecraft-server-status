{
 "cells": [
  {
   "cell_type": "code",
   "execution_count": 4,
   "metadata": {},
   "outputs": [],
   "source": [
    "import gradio as gr\n",
    "import matplotlib.pyplot as plt\n",
    "from datetime import datetime\n",
    "import requests"
   ]
  },
  {
   "cell_type": "code",
   "execution_count": 12,
   "metadata": {},
   "outputs": [
    {
     "name": "stdout",
     "output_type": "stream",
     "text": [
      "* Running on local URL:  http://127.0.0.1:7864\n",
      "\n",
      "To create a public link, set `share=True` in `launch()`.\n"
     ]
    },
    {
     "data": {
      "text/html": [
       "<div><iframe src=\"http://127.0.0.1:7864/\" width=\"100%\" height=\"500\" allow=\"autoplay; camera; microphone; clipboard-read; clipboard-write;\" frameborder=\"0\" allowfullscreen></iframe></div>"
      ],
      "text/plain": [
       "<IPython.core.display.HTML object>"
      ]
     },
     "metadata": {},
     "output_type": "display_data"
    },
    {
     "data": {
      "text/plain": []
     },
     "execution_count": 12,
     "metadata": {},
     "output_type": "execute_result"
    }
   ],
   "source": [
    "def get_data(t_start: str, t_end: str):\n",
    "\n",
    "    req = requests.get(\"http://localhost:8002/api/v1/get_stats\", params={\"t_start\": t_start, \"t_end\": t_end})\n",
    "    data = req.json()\n",
    "    # returns: {\"status\": \"ok\",\"min_timestamp\": min_timestamp,\"max_timestamp\": max_timestamp,\"min_n_players\": min_n_players,\"max_n_players\": max_n_players,\"data\": rows}\n",
    "    # rows: [int, int, int, list[str]]\n",
    "    # rows: [timestamp, n_players, max_players (ignore), list[players]]\n",
    "\n",
    "    return data\n",
    "\n",
    "def plot_data(data):\n",
    "    rows = data[\"data\"]\n",
    "    timestamps = [row[0] for row in rows]\n",
    "    n_players = [row[1] for row in rows]\n",
    "\n",
    "    plt.plot(timestamps, n_players)\n",
    "    plt.xlabel(\"Time\")\n",
    "    plt.ylabel(\"Number of players\")\n",
    "    plt.title(\"Number of players over time\")\n",
    "    plt.xticks(rotation=45)\n",
    "    plt.tight_layout()\n",
    "    return plt\n",
    "\n",
    "def get_stats(t_start, t_end):\n",
    "    data = get_data(t_start, t_end)\n",
    "    return plot_data(data)\n",
    "\n",
    "iface = gr.Interface(fn=get_stats, inputs=[gr.DateTime(label=\"Start time\"), gr.DateTime(label=\"End time\")], outputs=\"plot\")\n",
    "iface.launch()"
   ]
  }
 ],
 "metadata": {
  "kernelspec": {
   "display_name": "base",
   "language": "python",
   "name": "python3"
  },
  "language_info": {
   "codemirror_mode": {
    "name": "ipython",
    "version": 3
   },
   "file_extension": ".py",
   "mimetype": "text/x-python",
   "name": "python",
   "nbconvert_exporter": "python",
   "pygments_lexer": "ipython3",
   "version": "3.12.3"
  }
 },
 "nbformat": 4,
 "nbformat_minor": 2
}
