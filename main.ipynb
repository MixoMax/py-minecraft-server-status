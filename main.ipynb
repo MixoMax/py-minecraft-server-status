{
 "cells": [
  {
   "cell_type": "code",
   "execution_count": 19,
   "metadata": {},
   "outputs": [],
   "source": [
    "import requests\n",
    "import re"
   ]
  },
  {
   "cell_type": "code",
   "execution_count": 10,
   "metadata": {},
   "outputs": [],
   "source": [
    "host = \"fsr-informatik.de\""
   ]
  },
  {
   "cell_type": "code",
   "execution_count": 20,
   "metadata": {},
   "outputs": [
    {
     "name": "stdout",
     "output_type": "stream",
     "text": [
      "0 / 100\n"
     ]
    }
   ],
   "source": [
    "html = requests.get(f\"https://mcsrvstat.us/server/{host}\").text\n",
    "\n",
    "# search for all <div class=\"col-md-10 mb-3\">\n",
    "q_results = []\n",
    "q_str = '<div class=\"col-md-10 mb-3\">'\n",
    "while q_str in html:\n",
    "    q_results.append(html[html.find(q_str) + len(q_str):html.find(\"</div>\", html.find(q_str))])\n",
    "    html = html[html.find(\"</div>\", html.find(q_str)):]\n",
    "\n",
    "\n",
    "num_players = 0\n",
    "max_players = 0\n",
    "\n",
    "regex = re.compile(r\"(\\d+) / (\\d+)\")\n",
    "for q in q_results:\n",
    "    match = regex.search(q)\n",
    "    if match:\n",
    "        num_players += int(match.group(1))\n",
    "        max_players += int(match.group(2))\n",
    "\n",
    "print(f\"{num_players} / {max_players}\")"
   ]
  }
 ],
 "metadata": {
  "kernelspec": {
   "display_name": "py310",
   "language": "python",
   "name": "python3"
  },
  "language_info": {
   "codemirror_mode": {
    "name": "ipython",
    "version": 3
   },
   "file_extension": ".py",
   "mimetype": "text/x-python",
   "name": "python",
   "nbconvert_exporter": "python",
   "pygments_lexer": "ipython3",
   "version": "3.10.15"
  }
 },
 "nbformat": 4,
 "nbformat_minor": 2
}
