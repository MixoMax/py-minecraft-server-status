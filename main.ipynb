{
 "cells": [
  {
   "cell_type": "code",
   "execution_count": 1,
   "metadata": {},
   "outputs": [],
   "source": [
    "import requests\n",
    "import re"
   ]
  },
  {
   "cell_type": "code",
   "execution_count": 2,
   "metadata": {},
   "outputs": [],
   "source": [
    "host = \"fsr-informatik.de\""
   ]
  },
  {
   "cell_type": "code",
   "execution_count": 9,
   "metadata": {},
   "outputs": [
    {
     "name": "stdout",
     "output_type": "stream",
     "text": [
      "Server: fsr-informatik.de\n",
      "Version: 1.21\n",
      "2 / 100\n"
     ]
    }
   ],
   "source": [
    "html = requests.get(f\"https://mcsrvstat.us/server/{host}\").text\n",
    "html_og = html\n",
    "\n",
    "with open(\"mcsrvstat.html\", \"w\") as f:\n",
    "    f.write(html)\n",
    "\n",
    "# search for all <div class=\"col-md-10 mb-3\">\n",
    "q_results = []\n",
    "q_str = '<div class=\"col-md-10 mb-3\">'\n",
    "while q_str in html:\n",
    "    q_results.append(html[html.find(q_str) + len(q_str):html.find(\"</div>\", html.find(q_str))])\n",
    "    html = html[html.find(\"</div>\", html.find(q_str)):]\n",
    "\n",
    "\n",
    "num_players = 0\n",
    "max_players = 0\n",
    "mc_version = \"\"\n",
    "\n",
    "player_regex = re.compile(r\"(\\d+) / (\\d+)\")\n",
    "mc_version_regex = re.compile(r\"(\\d+\\.\\d+\\)?|(\\d+\\.\\d+\\.\\d+))\")\n",
    "for q in q_results:\n",
    "    if player_regex.search(q):\n",
    "        re_match = player_regex.search(q)\n",
    "        num_players += int(re_match.group(1))\n",
    "        max_players += int(re_match.group(2))\n",
    "    elif mc_version_regex.search(q):\n",
    "        mc_version = mc_version_regex.search(q).group(0)\n",
    "\n",
    "print(f\"Server: {host}\")\n",
    "print(f\"Version: {mc_version}\")\n",
    "print(f\"{num_players} / {max_players}\")"
   ]
  },
  {
   "cell_type": "code",
   "execution_count": 14,
   "metadata": {},
   "outputs": [
    {
     "name": "stdout",
     "output_type": "stream",
     "text": [
      "Players:\n",
      "('FrittenStudios', 'd4f41961-85c1-4079-b074-474381635bd9')\n",
      "('JeziGabs', '22c4d78e-73da-4aa9-93bb-f31bdb11fccb')\n"
     ]
    }
   ],
   "source": [
    "players = []\n",
    "\n",
    "q_str = '<a href=\"https://namemc.com/profile/'\n",
    "end_str = \"</a>\"\n",
    "\n",
    "html = html_og\n",
    "\n",
    "while q_str in html:\n",
    "    html = html[html.find(q_str) + len(q_str):]\n",
    "    \n",
    "    uuid_end = '\"'\n",
    "    uuid = html[:html.find(uuid_end)]\n",
    "    html = html[html.find(uuid_end):]\n",
    "\n",
    "    name_start = 'title=\"'\n",
    "    name_end = '\" />'\n",
    "    name = html[html.find(name_start) + len(name_start):html.find(name_end)]\n",
    "    html = html[html.find(name_end):]\n",
    "\n",
    "    players.append((name, uuid))\n",
    "\n",
    "\n",
    "print(\"Players:\")\n",
    "for player in players:\n",
    "    print(player)\n"
   ]
  }
 ],
 "metadata": {
  "kernelspec": {
   "display_name": "py310",
   "language": "python",
   "name": "python3"
  },
  "language_info": {
   "codemirror_mode": {
    "name": "ipython",
    "version": 3
   },
   "file_extension": ".py",
   "mimetype": "text/x-python",
   "name": "python",
   "nbconvert_exporter": "python",
   "pygments_lexer": "ipython3",
   "version": "3.10.15"
  }
 },
 "nbformat": 4,
 "nbformat_minor": 2
}
